{
 "cells": [
  {
   "cell_type": "markdown",
   "metadata": {},
   "source": [
    "<div align=\"right\">Python 2.7 Jupyter Notebook</div>\n",
    "\n",
    "# Rapid Measurement of the Sustainable Development Goals with Satellite Imagery and Machine-Learning\n",
    "<br>\n",
    "\n",
    "\n"
   ]
  },
  {
   "cell_type": "markdown",
   "metadata": {},
   "source": [
    "## About this notebook\n",
    "\n",
    "> This notebook describes a methodology for using satellite imagery & household surveys to measure the implementation of selected socio-economic indicators used to monitor the Sustainable Development Goals (SDGs).\n",
    "\n",
    "The first aim is to compute an indicator related to SDG 1.1 \n",
    "\n",
    "“By 2030, eradicate extreme poverty for all people everywhere, currently measured as people living on less than $1.25 a day”. \n",
    "\n",
    "## Benefits\n",
    "\n",
    "The benefit of this project is to be able to estimate a socio-economic indicator at locations where household surveys have not been conducted or are outdated.\n",
    "\n",
    "\n",
    "## Methodology\n",
    "\n",
    "The project is inspired by and seeks to adapt the methodology outlined in the article \"Combining satellite imagery and machine learning to predict poverty\" in 2016 by Neal Jean, Marshall Burke, Michael Xie, W. Matthew Davis, David B. Lobell, and Stefano Ermon.\n",
    "\n",
    "See their work at: http://sustain.stanford.edu/predicting-poverty/ \n",
    "\n",
    "and some of their code at: https://github.com/nealjean/predicting-poverty\n",
    "\n",
    "\n",
    "## Expected Outcomes\n",
    "The outcome of the project is intended to be a documented methodology and open source code to compute selected SDG indicators. \n",
    "\n",
    "It is expected that the methodology will continue to be refined and further developed for other indicators in an open and collaborative manner by academia, private sector, governments and the open source community.\n",
    "\n"
   ]
  },
  {
   "cell_type": "markdown",
   "metadata": {},
   "source": [
    "## Introduction\n",
    "\n",
    "We know little about poor countries and even less about the poor people who live in these countries. As a result, econometric models used for testing hypothesis are much more sophisticated than the quality of the data would justify.\n",
    "\n",
    "We need a more detailed characterization of households in order to target socio-economic policies for achieving the Sustainable Development Goals by 2013 agreed upon by the internatinal community. \n",
    "\n",
    "Understanding the status and the progress of households is mostly conducted at wide scales, often national or across large administrative regions. This is insufficient to properly target and monitor policy interventions in a way to maximize their effectiveness. "
   ]
  },
  {
   "cell_type": "markdown",
   "metadata": {
    "collapsed": true
   },
   "source": [
    "#### 1.  Backgroud \n"
   ]
  },
  {
   "cell_type": "markdown",
   "metadata": {},
   "source": [
    "- A common methodology for meassuring the socio-economic situation on the ground is to conduct household surveys. However, hosehold surveys are designed to be representative at large geographic scales. They are also expensive to conduct.\n",
    "\n",
    "- As a result, measures of poverty and inequality are limited by poor data availability, and by limitations of the survey itself (poor recollection, errors in estimating non-monetary income, reticence at reporting income, among others). \n",
    "\n",
    "- The time it takes to collect information also create problems since samples occur across days, weeks or sometimes months but they cannot track seasonal fluctuations in monetary poverty that result, for example, from agricultural cycles or seasonal construction or the inability of poor households to smooth income during a given year.\n",
    "\n",
    "- At the same time, there are a large number of datasets that track different aspects of importance for development policy. \n",
    "\n",
    "- However, matching various data sources requires a lot of careful work on the underlying survey designs, variable definitions, and other aspects."
   ]
  },
  {
   "cell_type": "markdown",
   "metadata": {
    "collapsed": true
   },
   "source": [
    "####  2. Research Questions\n",
    "\n",
    "\n",
    "Phase 1: Can we estimate the DHS Wealth index using a satellite image for a location where a survey has not been conducted?\n",
    "\n",
    "Phase 2: What other socio-economic indicators can be estimated using a similar methodology?\n",
    "\n",
    "Phase 3: Can the above be done with alternative datasources such as mobile data, social network data, unmanned aerial vehicles?",
    "\n",
    "Phase 4: Can we compute indicators frequently (e.g. weekly, monthly, etc.)?"
   ]
  },
  {
   "cell_type": "markdown",
   "metadata": {},
   "source": [
    "####  3. Hypothesis\n"
   ]
  },
  {
   "cell_type": "markdown",
   "metadata": {},
   "source": [
    "\n",
    "Hypothesis 1: For a given location, the DHS Wealth Index is can be associated to features appearing on a digital satellite image for that location.\n",
    "\n",
    "Hypothesis 2: The model descibing the association can be applied to other locations.\n",
    "\n",
    "Note: Consider conditions and characteristics at different locations e.g. latidude, longitude, altitude, similar development status, architectural similarities, etc. which could make a model suitable for similar countries, but not applicable to others."
   ]
  },
  {
   "cell_type": "markdown",
   "metadata": {},
   "source": [
    "####  4. Testable predictions\n"
   ]
  },
  {
   "cell_type": "markdown",
   "metadata": {},
   "source": [
    "To test the predictions made with this methodology:\n",
    "\n",
    "- We will identify a country or territory where a good hosehold survey is available, and where good satellite imagery is also available.\n",
    "\n",
    "- We will separate the dataset in 70% training and 30% test set.\n",
    "\n",
    "- For a given variable e.g. DHS Wealth Index we will use machine learning to find the best model to correlate the survey dta with the satellite image (e.g. based on a vector describing the colors and positions of the pixels in an image).\n",
    "\n",
    "- The above modelling will be carried out at various test countries.\n"
   ]
  },
  {
   "cell_type": "markdown",
   "metadata": {},
   "source": [
    "####  5. Gather data to test predictions\n",
    "In the cells below, please enter your approach to obtain necesary data."
   ]
  },
  {
   "cell_type": "markdown",
   "metadata": {},
   "source": [
    "We suggest these datasets:\n",
    "\n",
    "- Household survey data:\n",
    "\n",
    "The Demographic and Health Survey programme:\n",
    "http://dhsprogram.com/What-We-Do/Survey-Types/DHS.cfm\n",
    "\n",
    "- Satellite imagery:\n",
    "\n",
    "National Oceanic and Atmospheric Administration:\n",
    "http://www.noaa.gov/\n",
    "\n",
    "\n",
    "Expected challenges regarding the suitability of the satellite imagery include:\n",
    "- image resolution,\n",
    "- cloud obstructions,\n",
    "- lack of images in the areas of interest, etc.\n"
   ]
  },
  {
   "cell_type": "markdown",
   "metadata": {},
   "source": [
    "\n",
    "\n",
    "\n",
    "This is the core section, where the modelling takes place."
   ]
  },
  {
   "cell_type": "markdown",
   "metadata": {},
   "source": [
    "####  6. Execute the analysis\n",
    "\n",
    "Your code goes here.\n",
    "\n",
    "- This is where the magic happens. In this phase, deploy your code to solve the problem. Kindly comment it extensively.\n",
    "\n"
   ]
  },
  {
   "cell_type": "code",
   "execution_count": 7,
   "metadata": {
    "collapsed": false
   },
   "outputs": [],
   "source": [
    "import sys\n",
    "\n"
   ]
  },
  {
   "cell_type": "markdown",
   "metadata": {},
   "source": [
    "\n",
    "####  7. Develop general theories\n",
    "\n",
    "Assuming that your analysis was successful and that you were able to develop a general theory about your solutino.\n",
    "\n",
    "\n",
    "What changes would you propose in order to benefit from the insights gained?"
   ]
  },
  {
   "cell_type": "markdown",
   "metadata": {},
   "source": [
    "\n",
    "General Theory (theoretical):\n",
    "\n",
    "- Enter here your theory"
   ]
  },
  {
   "cell_type": "markdown",
   "metadata": {
    "collapsed": true
   },
   "source": [
    "\n",
    "\n",
    "### 8. Submit your notebook\n",
    "\n",
    "Please make sure that you:\n",
    "- Perform a final \"Save and Checkpoint\";\n",
    "- Download a copy of the notebook in \".ipynb\" format to your local machine using \"File\", \"Download as\", and \"IPython Notebook (.ipynb)\"; and\n",
    "- Create a pull request on Github to let us know of your submission.\n",
    "\n",
    "> **Note**:\n",
    "\n",
    "> Thank you!"
   ]
  },
  {
   "cell_type": "code",
   "execution_count": null,
   "metadata": {
    "collapsed": true
   },
   "outputs": [],
   "source": []
  }
 ],
 "metadata": {
  "kernelspec": {
   "display_name": "Python [playground]",
   "language": "python",
   "name": "Python [playground]"
  },
  "language_info": {
   "codemirror_mode": {
    "name": "ipython",
    "version": 2
   },
   "file_extension": ".py",
   "mimetype": "text/x-python",
   "name": "python",
   "nbconvert_exporter": "python",
   "pygments_lexer": "ipython2",
   "version": "2.7.12"
  }
 },
 "nbformat": 4,
 "nbformat_minor": 0
}
